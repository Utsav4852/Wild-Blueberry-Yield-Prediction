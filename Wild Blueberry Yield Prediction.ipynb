{
 "cells": [
  {
   "cell_type": "markdown",
   "id": "eff48d2c",
   "metadata": {},
   "source": [
    "# Import Libraries"
   ]
  },
  {
   "cell_type": "code",
   "execution_count": 4,
   "id": "5eca29e5",
   "metadata": {},
   "outputs": [],
   "source": [
    "import pandas as pd\n",
    "import numpy as np\n",
    "\n",
    "import matplotlib.pyplot as plt\n",
    "from sklearn.model_selection import KFold, train_test_split\n",
    "import seaborn as sns\n",
    "import warnings\n",
    "\n",
    "warnings.filterwarnings('ignore')\n",
    "\n",
    "import xgboost\n",
    "import catboost\n",
    "import lightgbm\n",
    "\n",
    "from sklearn.preprocessing import MinMaxScaler, StandardScaler\n",
    "from sklearn.ensemble import VotingRegressor\n",
    "from sklearn.neighbors import KNeighborsRegressor\n",
    "from sklearn.ensemble import RandomForestRegressor\n",
    "from sklearn.metrics import mean_absolute_error"
   ]
  },
  {
   "cell_type": "code",
   "execution_count": 33,
   "id": "4c57ad38",
   "metadata": {},
   "outputs": [],
   "source": [
    "train_df = pd.read_csv('train.csv')"
   ]
  },
  {
   "cell_type": "code",
   "execution_count": 34,
   "id": "590cb48a",
   "metadata": {},
   "outputs": [],
   "source": [
    "X = train_df.drop(columns=['yield'])\n",
    "y = train_df['yield']\n",
    "\n",
    "std_scaler = StandardScaler()\n",
    "\n",
    "X = std_scaler.fit_transform(X)"
   ]
  },
  {
   "cell_type": "code",
   "execution_count": 35,
   "id": "42021ce3",
   "metadata": {},
   "outputs": [],
   "source": [
    "X_train, X_test, y_train, y_test = train_test_split(X,y, test_size=0.2, random_state=4003)"
   ]
  },
  {
   "cell_type": "code",
   "execution_count": 36,
   "id": "57669dae",
   "metadata": {},
   "outputs": [],
   "source": [
    "def train_with_folds(folds, X_data, y_data, model,X_data_test):    \n",
    "    kfold = KFold(n_splits=folds, random_state=43, shuffle=True)\n",
    "\n",
    "    fold_preds = []\n",
    "\n",
    "    i = 0\n",
    "    for train_idx, test_idx in kfold.split(X_data, y_data):\n",
    "        i += 1\n",
    "        X_train_fold = X_data[train_idx,:]\n",
    "        X_test_fold = X_data[test_idx,:]\n",
    "        y_train_fold = y_data.iloc[train_idx]\n",
    "        y_test_fold = y_data.iloc[test_idx]\n",
    "\n",
    "        train_model = model\n",
    "        train_model.fit(X_train_fold, y_train_fold)\n",
    "        \n",
    "        test_pred = train_model.predict(X_test_fold)\n",
    "        mse = mean_absolute_error(test_pred, y_test_fold)\n",
    "\n",
    "        fold_preds.append(train_model.predict(X_data_test))\n",
    "        print(f'fold {i} => {mse}')\n",
    "        \n",
    "    return fold_preds, train_model\n"
   ]
  },
  {
   "cell_type": "markdown",
   "id": "25d91ee6",
   "metadata": {},
   "source": [
    "# Random Forest Regressor"
   ]
  },
  {
   "cell_type": "code",
   "execution_count": 37,
   "id": "06a6e351",
   "metadata": {},
   "outputs": [
    {
     "name": "stdout",
     "output_type": "stream",
     "text": [
      "fold 1 => 355.2069857492865\n",
      "fold 2 => 356.51602805843817\n",
      "fold 3 => 333.58446382692165\n",
      "fold 4 => 369.68118743425816\n",
      "fold 5 => 342.7417572920463\n",
      "fold 6 => 346.3679378139747\n",
      "fold 7 => 333.8722748822731\n",
      "fold 8 => 363.78263269539457\n",
      "fold 9 => 328.15674230166076\n",
      "fold 10 => 368.5088051764209\n"
     ]
    }
   ],
   "source": [
    "rf_model = RandomForestRegressor(max_depth=50, n_jobs=1000, max_features=12, min_samples_leaf=8)\n",
    "\n",
    "rf_preds,_ = train_with_folds(10, X_train,y_train,rf_model, X_test)"
   ]
  },
  {
   "cell_type": "code",
   "execution_count": 38,
   "id": "e38c7f6f",
   "metadata": {},
   "outputs": [
    {
     "data": {
      "text/plain": [
       "362.3312045453497"
      ]
     },
     "execution_count": 38,
     "metadata": {},
     "output_type": "execute_result"
    }
   ],
   "source": [
    "rf_test_preds = np.mean(rf_preds, axis=0)\n",
    "mean_absolute_error(rf_test_preds, y_test)"
   ]
  },
  {
   "cell_type": "markdown",
   "id": "6026400d",
   "metadata": {},
   "source": [
    "# Catboost Regressor"
   ]
  },
  {
   "cell_type": "code",
   "execution_count": 39,
   "id": "a1c16347",
   "metadata": {},
   "outputs": [
    {
     "name": "stdout",
     "output_type": "stream",
     "text": [
      "fold 1 => 377.20693386259\n",
      "fold 2 => 346.89132761593453\n",
      "fold 3 => 353.164533766479\n",
      "fold 4 => 370.4169796928056\n",
      "fold 5 => 360.48467301970936\n",
      "fold 6 => 369.56707316326214\n",
      "fold 7 => 337.69892039955613\n",
      "fold 8 => 350.88343295148235\n",
      "fold 9 => 325.6438185289466\n",
      "fold 10 => 357.6538180496972\n"
     ]
    }
   ],
   "source": [
    "cat_reg = catboost.CatBoostRegressor(verbose = 0, learning_rate=0.05)\n",
    "\n",
    "cat_preds, cat_model = train_with_folds(10, X,y, cat_reg, X_test)"
   ]
  },
  {
   "cell_type": "code",
   "execution_count": 40,
   "id": "29c6b4be",
   "metadata": {},
   "outputs": [
    {
     "data": {
      "text/plain": [
       "322.4577475124318"
      ]
     },
     "execution_count": 40,
     "metadata": {},
     "output_type": "execute_result"
    }
   ],
   "source": [
    "cat_test_preds = np.mean(cat_preds, axis=0)\n",
    "mean_absolute_error(np.mean(cat_preds, axis=0), y_test)"
   ]
  },
  {
   "cell_type": "markdown",
   "id": "d0607e1a",
   "metadata": {},
   "source": [
    "# lgbm regressor"
   ]
  },
  {
   "cell_type": "code",
   "execution_count": 41,
   "id": "786a0392",
   "metadata": {},
   "outputs": [
    {
     "name": "stdout",
     "output_type": "stream",
     "text": [
      "fold 1 => 371.24442112821225\n",
      "fold 2 => 346.07034420735994\n",
      "fold 3 => 345.5513429495608\n",
      "fold 4 => 366.40109570225684\n",
      "fold 5 => 356.7804957007191\n",
      "fold 6 => 373.2947603003219\n",
      "fold 7 => 338.63933440177976\n",
      "fold 8 => 345.0486575832865\n",
      "fold 9 => 322.5398456787346\n",
      "fold 10 => 355.79065794861407\n"
     ]
    }
   ],
   "source": [
    "\n",
    "lgbm_reg = lightgbm.LGBMRegressor(learning_rate=0.02368, n_estimators=300, min_child_weight=0.01, max_depth=12, reg_lambda=0.002)\n",
    "lgbm_preds, lgbm_model = train_with_folds(10, X,y, lgbm_reg, X_test)"
   ]
  },
  {
   "cell_type": "code",
   "execution_count": 42,
   "id": "9e92fda7",
   "metadata": {},
   "outputs": [
    {
     "data": {
      "text/plain": [
       "336.50962981347834"
      ]
     },
     "execution_count": 42,
     "metadata": {},
     "output_type": "execute_result"
    }
   ],
   "source": [
    "lgbm_test_preds = np.mean(lgbm_preds, axis=0)\n",
    "mean_absolute_error(lgbm_test_preds, y_test)"
   ]
  },
  {
   "cell_type": "markdown",
   "id": "3145ba31",
   "metadata": {},
   "source": [
    "# Voting Regressor"
   ]
  },
  {
   "cell_type": "code",
   "execution_count": 46,
   "id": "bd667e41",
   "metadata": {},
   "outputs": [],
   "source": [
    "\n",
    "lbmParam1={\n",
    "        'objective': 'regression_l1',\n",
    "        'metric': 'mae',\n",
    "        'num_leaves': 31,\n",
    "        'learning_rate': 0.05,\n",
    "        'n_estimators': 1000,\n",
    "}\n",
    "\n",
    "lbmParam2={\n",
    "            'n_estimators': 250,\n",
    "            \"num_leaves\": 57,\n",
    "            'min_child_samples': 9,\n",
    "            'learning_rate': 0.043,\n",
    "            'colsample_bytree': 0.87,\n",
    "            'reg_alpha': 0.0009765625,\n",
    "            'reg_lambda': 0.0018511523615235433,\n",
    "            'objective': 'regression_l1',\n",
    "            'metric': 'mae',\n",
    "            'boosting_type': 'gbdt',\n",
    "}\n",
    "\n",
    "\n",
    "lbmParam3 = {\n",
    "     'n_jobs': -1,\n",
    "     'random_state': 43,\n",
    "     'objective': 'regression_l1',\n",
    "     'metric': 'mae',\n",
    "     'num_leaves': 58,\n",
    "     'learning_rate': 0.023640239702728376,\n",
    "     'min_child_samples': 14,\n",
    "     'colsample_bytree': 0.7006991908929474,\n",
    "     'n_estimators': 663,\n",
    "     'reg_alpha': 0.6469675138495181,\n",
    "     'reg_lambda': 0.14870311599361627}"
   ]
  },
  {
   "cell_type": "code",
   "execution_count": 53,
   "id": "9129c331",
   "metadata": {},
   "outputs": [],
   "source": [
    "Regressors = {\n",
    "    'LGBMRegressor_tune1': lightgbm.LGBMRegressor(**lbmParam1, n_jobs=-1,random_state=43),\n",
    "    'LGBMRegressor_tune2': lightgbm.LGBMRegressor(**lbmParam2, n_jobs=-1,random_state=43),\n",
    "    'LGBMRegressor_Optunatune': lightgbm.LGBMRegressor(**lbmParam3),\n",
    "    'catboost' : catboost.CatBoostRegressor(verbose = 0, learning_rate=0.1)\n",
    "}\n",
    "# Create the voting regressor\n",
    "voting = VotingRegressor(estimators=list(Regressors.items()))"
   ]
  },
  {
   "cell_type": "code",
   "execution_count": 54,
   "id": "a3fee7af",
   "metadata": {},
   "outputs": [
    {
     "name": "stdout",
     "output_type": "stream",
     "text": [
      "fold 1 => 362.41011855896767\n",
      "fold 2 => 331.3080905416069\n",
      "fold 3 => 340.9800071891104\n",
      "fold 4 => 355.83730986396364\n",
      "fold 5 => 351.62536777975066\n",
      "fold 6 => 360.9551471697812\n",
      "fold 7 => 325.6118636313448\n",
      "fold 8 => 339.80786813994894\n",
      "fold 9 => 314.0594905308837\n",
      "fold 10 => 346.17151495021375\n"
     ]
    }
   ],
   "source": [
    "voting_preds, voting_model = train_with_folds(10, X,y, voting, X_test)"
   ]
  },
  {
   "cell_type": "code",
   "execution_count": 55,
   "id": "a8dc5698",
   "metadata": {},
   "outputs": [
    {
     "data": {
      "text/plain": [
       "301.4433878793118"
      ]
     },
     "execution_count": 55,
     "metadata": {},
     "output_type": "execute_result"
    }
   ],
   "source": [
    "voting_test_pred = np.mean(voting_preds, axis=0)\n",
    "mean_absolute_error(voting_test_pred, y_test)"
   ]
  }
 ],
 "metadata": {
  "kernelspec": {
   "display_name": "Python 3 (ipykernel)",
   "language": "python",
   "name": "python3"
  },
  "language_info": {
   "codemirror_mode": {
    "name": "ipython",
    "version": 3
   },
   "file_extension": ".py",
   "mimetype": "text/x-python",
   "name": "python",
   "nbconvert_exporter": "python",
   "pygments_lexer": "ipython3",
   "version": "3.8.0"
  }
 },
 "nbformat": 4,
 "nbformat_minor": 5
}
